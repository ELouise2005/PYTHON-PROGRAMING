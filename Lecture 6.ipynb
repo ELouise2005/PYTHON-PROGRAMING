{
 "cells": [
  {
   "cell_type": "markdown",
   "id": "de1888c4-92bd-4dea-b094-7d63a41909cf",
   "metadata": {},
   "source": [
    "# REVIEW EXERCISES 1"
   ]
  },
  {
   "cell_type": "code",
   "execution_count": 1,
   "id": "3a268f12-b76b-4f38-9f83-ec35e7a03901",
   "metadata": {},
   "outputs": [
    {
     "name": "stdout",
     "output_type": "stream",
     "text": [
      "Philo's coat is brown.\n"
     ]
    }
   ],
   "source": [
    "class Dog:\n",
    "    def __init__(self, name, age, coat_color):\n",
    "        self.name = name\n",
    "        self.age = age\n",
    "        self.coat_color = coat_color\n",
    "\n",
    "philo = Dog(\"Philo\", 5, \"Brown\")\n",
    "\n",
    "print(f\"{philo.name}'s coat is {philo.coat_color.lower()}.\")"
   ]
  },
  {
   "cell_type": "code",
   "execution_count": 2,
   "id": "cfa6ed06-71fa-4f21-8e20-bf9ea420e2c1",
   "metadata": {},
   "outputs": [
    {
     "name": "stdout",
     "output_type": "stream",
     "text": [
      "The blue car has 20,000 miles.\n",
      "The red car has 30,000 miles.\n"
     ]
    }
   ],
   "source": [
    "class Car:\n",
    "    def __init__(self, color, mileage):\n",
    "        self.color = color\n",
    "        self.mileage = mileage\n",
    "\n",
    "blue_car = Car(\"blue\", 20000)\n",
    "red_car = Car(\"red\", 30000)\n",
    "\n",
    "print(f\"The {blue_car.color} car has {blue_car.mileage:,} miles.\")\n",
    "print(f\"The {red_car.color} car has {red_car.mileage:,} miles.\")"
   ]
  },
  {
   "cell_type": "code",
   "execution_count": 3,
   "id": "913452a5-99b3-4b86-bb5b-f00f7483d9cd",
   "metadata": {},
   "outputs": [
    {
     "name": "stdout",
     "output_type": "stream",
     "text": [
      "The car's mileage is now 100 miles.\n"
     ]
    }
   ],
   "source": [
    "class Car:\n",
    "    def __init__(self, color, mileage):\n",
    "        self.color = color\n",
    "        self.mileage = mileage\n",
    "\n",
    "    def drive(self, miles):\n",
    "        self.mileage += miles\n",
    "\n",
    "my_car = Car(\"blue\", 0)  # start with 0 miles\n",
    "my_car.drive(100)         # drive 100 miles\n",
    "\n",
    "print(f\"The car's mileage is now {my_car.mileage} miles.\")"
   ]
  },
  {
   "cell_type": "markdown",
   "id": "b8232593-2ef6-457c-b30d-7c59b35809c9",
   "metadata": {},
   "source": [
    "# REVIEW EXERCISE 2"
   ]
  },
  {
   "cell_type": "code",
   "execution_count": 5,
   "id": "4b9a0a24-3323-43a9-9ec3-272951b95c94",
   "metadata": {},
   "outputs": [
    {
     "name": "stdout",
     "output_type": "stream",
     "text": [
      "Jaguar says Bark\n"
     ]
    }
   ],
   "source": [
    "class Dog:\n",
    "    species = \"Canis familiaris\"\n",
    "\n",
    "    def __init__(self, name, age):\n",
    "        self.name = name\n",
    "        self.age = age\n",
    "\n",
    "    def __str__(self):\n",
    "        return f\"{self.name} is {self.age} years old\"\n",
    "\n",
    "    def speak(self, sound):\n",
    "        return f\"{self.name} says {sound}\"\n",
    "\n",
    "class GoldenRetriever(Dog):\n",
    "    def speak(self, sound=\"Bark\"):\n",
    "        return f\"{self.name} says {sound}\"\n",
    "\n",
    "jaguar = GoldenRetriever(\"Jaguar\", 11)\n",
    "print(jaguar.speak())"
   ]
  },
  {
   "cell_type": "code",
   "execution_count": 6,
   "id": "63928a7f-2b74-4cb5-938f-36e59cd2a029",
   "metadata": {},
   "outputs": [
    {
     "name": "stdout",
     "output_type": "stream",
     "text": [
      "The Area of square with side length is 4 : 16\n"
     ]
    }
   ],
   "source": [
    "class Rectangle:\n",
    "    def __init__(self, length, width):\n",
    "        self.length = length\n",
    "        self.width = width\n",
    "\n",
    "    def area(self):\n",
    "        return self.length * self.width\n",
    "\n",
    "\n",
    "class Square(Rectangle):\n",
    "    def __init__(self, side_length):\n",
    "        super().__init__(side_length, side_length)\n",
    "\n",
    "\n",
    "square = Square(4)\n",
    "print(f\"The Area of square with side length is 4 : {square.area()}\")"
   ]
  },
  {
   "cell_type": "markdown",
   "id": "c0592127-ccf9-4a10-bc99-1a095137590f",
   "metadata": {},
   "source": [
    "# CHALLENGE: MODEL A FARM"
   ]
  },
  {
   "cell_type": "code",
   "execution_count": 7,
   "id": "fbcb6054-5bdd-4bad-bcab-166322f87a57",
   "metadata": {},
   "outputs": [
    {
     "name": "stdout",
     "output_type": "stream",
     "text": [
      "Name: Jaguar, Age: 5, Breed: Shih tzu\n",
      "Jaguar is eating.\n",
      "Jaguar is walking around.\n",
      "Jaguar the Shih tzu is barking loudly!\n",
      "\n",
      "\n",
      "Name: Minnie, Age: 2, Color: Black\n",
      "Minnie, the Black cat, is so cute.\n",
      "Minnie is eating.\n",
      "\n",
      "\n",
      "Name: Tweety, Age: 1, Species: Canary\n",
      "Tweety the Canary is flying high in the sky!\n",
      "Tweety is eating.\n"
     ]
    }
   ],
   "source": [
    "class Animal:\n",
    "    def __init__(self, name, age):\n",
    "        self.name = name\n",
    "        self.age = age\n",
    "\n",
    "    def eat(self):\n",
    "        print(f\"{self.name} is eating.\")\n",
    "\n",
    "    def walk(self):\n",
    "        print(f\"{self.name} is walking around.\")\n",
    "class Dog(Animal):\n",
    "    def __init__(self, name, age, breed):\n",
    "        super().__init__(name, age)\n",
    "        self.breed = breed\n",
    "\n",
    "    def bark(self):\n",
    "        print(f\"{self.name} the {self.breed} is barking loudly!\")\n",
    "class Cat(Animal):\n",
    "    def __init__(self, name, age, color):\n",
    "        super().__init__(name, age)\n",
    "        self.color = color\n",
    "\n",
    "    def meow(self):\n",
    "        print(f\"{self.name}, the {self.color} cat, is so cute.\")\n",
    "class Bird(Animal):\n",
    "    def __init__(self, name, age, species):\n",
    "        super().__init__(name, age)\n",
    "        self.species = species\n",
    "\n",
    "    def fly(self):\n",
    "        print(f\"{self.name} the {self.species} is flying high in the sky!\")\n",
    "dog = Dog(\"Jaguar\", 5, \"Shih tzu\")\n",
    "cat = Cat(\"Minnie\", 2, \"Black\")\n",
    "bird = Bird(\"Tweety\", 1, \"Canary\")\n",
    "print(f\"Name: {dog.name}, Age: {dog.age}, Breed: {dog.breed}\")\n",
    "dog.eat()\n",
    "dog.walk()\n",
    "dog.bark()\n",
    "\n",
    "print(\"\\n\")\n",
    "print(f\"Name: {cat.name}, Age: {cat.age}, Color: {cat.color}\")\n",
    "cat.meow()\n",
    "cat.eat()\n",
    "\n",
    "print(\"\\n\")\n",
    "print(f\"Name: {bird.name}, Age: {bird.age}, Species: {bird.species}\")\n",
    "bird.fly()\n",
    "bird.eat()"
   ]
  },
  {
   "cell_type": "code",
   "execution_count": null,
   "id": "15fa7045-33b5-40ab-9ced-f7628d226f91",
   "metadata": {},
   "outputs": [],
   "source": []
  }
 ],
 "metadata": {
  "kernelspec": {
   "display_name": "Python 3 (ipykernel)",
   "language": "python",
   "name": "python3"
  },
  "language_info": {
   "codemirror_mode": {
    "name": "ipython",
    "version": 3
   },
   "file_extension": ".py",
   "mimetype": "text/x-python",
   "name": "python",
   "nbconvert_exporter": "python",
   "pygments_lexer": "ipython3",
   "version": "3.13.5"
  }
 },
 "nbformat": 4,
 "nbformat_minor": 5
}

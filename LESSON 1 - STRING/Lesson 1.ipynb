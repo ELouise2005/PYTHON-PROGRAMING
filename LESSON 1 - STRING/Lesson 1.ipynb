{
 "cells": [
  {
   "cell_type": "markdown",
   "id": "8a1f3093-f9c2-4f03-a128-9f38191eed01",
   "metadata": {},
   "source": [
    "# Review Question 1"
   ]
  },
  {
   "cell_type": "code",
   "execution_count": 1,
   "id": "7178f8d9-b7b0-4224-80ae-61536b9331de",
   "metadata": {},
   "outputs": [
    {
     "name": "stdout",
     "output_type": "stream",
     "text": [
      "13\n"
     ]
    }
   ],
   "source": [
    "my_string = \"Hello, world!\"\n",
    "print(len(my_string))\n"
   ]
  },
  {
   "cell_type": "code",
   "execution_count": 4,
   "id": "8ee35103-fd36-4d77-82e2-4643e511d352",
   "metadata": {},
   "outputs": [
    {
     "name": "stdout",
     "output_type": "stream",
     "text": [
      "EvithaLouise\n"
     ]
    }
   ],
   "source": [
    "str1 = \"Evitha\"\n",
    "str2 = \"Louise\"\n",
    "print(str1 + str2)\n"
   ]
  },
  {
   "cell_type": "code",
   "execution_count": 5,
   "id": "daac004f-69a2-4d31-a1c9-577a51695ec5",
   "metadata": {},
   "outputs": [
    {
     "name": "stdout",
     "output_type": "stream",
     "text": [
      "Evitha Louise\n"
     ]
    }
   ],
   "source": [
    "str1 = \"Evitha\"\n",
    "str2 = \"Louise\"\n",
    "print(str1 + \" \" + str2)\n"
   ]
  },
  {
   "cell_type": "code",
   "execution_count": 7,
   "id": "47c0d5cb-13b0-49f0-b8f9-8d391fc1d14e",
   "metadata": {},
   "outputs": [
    {
     "name": "stdout",
     "output_type": "stream",
     "text": [
      "fox\n"
     ]
    }
   ],
   "source": [
    "text = \"The quick brown fox jumped over the lazy dog. #1234567890!\"\n",
    "result = text[16:19]\n",
    "print(result)\n"
   ]
  },
  {
   "cell_type": "markdown",
   "id": "c9a78150-6113-407c-8122-d852848d2685",
   "metadata": {},
   "source": [
    "# Review Question 2"
   ]
  },
  {
   "cell_type": "code",
   "execution_count": 8,
   "id": "c2b2aec6-2477-47a4-a53d-3a58f5c12842",
   "metadata": {},
   "outputs": [
    {
     "name": "stdout",
     "output_type": "stream",
     "text": [
      "animals\n",
      "badger\n",
      "honey bee\n",
      "honeybadger\n"
     ]
    }
   ],
   "source": [
    "print(\"Animals\".lower())\n",
    "print(\"Badger\".lower())\n",
    "print(\"Honey Bee\".lower())\n",
    "print(\"Honeybadger\".lower())\n"
   ]
  },
  {
   "cell_type": "code",
   "execution_count": 9,
   "id": "c113b787-1305-4094-a3db-fa186115792c",
   "metadata": {},
   "outputs": [
    {
     "name": "stdout",
     "output_type": "stream",
     "text": [
      "ANIMALS\n",
      "BADGER\n",
      "HONEY BEE\n",
      "HONEYBADGER\n"
     ]
    }
   ],
   "source": [
    "print(\"ANIMALS\".upper())\n",
    "print(\"BADGER\".upper())\n",
    "print(\"HONEY BEE\".upper())\n",
    "print(\"HONEYBADGER\".upper())"
   ]
  },
  {
   "cell_type": "code",
   "execution_count": 10,
   "id": "84a18f9b-27d4-45c3-a9bf-eb0e37031cac",
   "metadata": {},
   "outputs": [
    {
     "name": "stdout",
     "output_type": "stream",
     "text": [
      "Filet Mignon\n",
      "Brisket\n"
     ]
    }
   ],
   "source": [
    "string1 = \" Filet Mignon\"\n",
    "string2 = \"Brisket \"\n",
    "\n",
    "cleaned_string1 = string1.strip()\n",
    "cleaned_string2 = string2.strip()\n",
    "\n",
    "print(cleaned_string1)\n",
    "print(cleaned_string2)\n"
   ]
  },
  {
   "cell_type": "code",
   "execution_count": 12,
   "id": "48a282c0-9ade-436a-a677-a27f785ea329",
   "metadata": {},
   "outputs": [
    {
     "name": "stdout",
     "output_type": "stream",
     "text": [
      "string1.startswith(\"be\"): False\n",
      "string2.startswith(\"be\"): True\n"
     ]
    }
   ],
   "source": [
    "string1 = \"Becomes\"\n",
    "string2 = \"becomes\"\n",
    "\n",
    "# Check if each string starts with \"be\"\n",
    "result1 = string1.startswith(\"be\")\n",
    "result2 = string2.startswith(\"be\")\n",
    "\n",
    "# Print the results\n",
    "print(f'string1.startswith(\"be\"): {result1}')\n",
    "print(f'string2.startswith(\"be\"): {result2}')\n",
    "\n"
   ]
  },
  {
   "cell_type": "code",
   "execution_count": 13,
   "id": "099b2746-acdb-495a-87dc-18ecc6a23dfa",
   "metadata": {},
   "outputs": [
    {
     "name": "stdout",
     "output_type": "stream",
     "text": [
      "True\n",
      "True\n"
     ]
    }
   ],
   "source": [
    "string1 = \"Becomes\"\n",
    "string2 = \"becomes\"\n",
    "\n",
    "string1_modified = string1.lower()\n",
    "string2_modified = string2.lower()\n",
    "\n",
    "print(string1_modified.startswith(\"be\"))\n",
    "print(string2_modified.startswith(\"be\"))\n"
   ]
  },
  {
   "cell_type": "markdown",
   "id": "a6d12ed7-6df7-4ff7-ab1e-c0e6cd1abc3b",
   "metadata": {},
   "source": [
    "# Review Question 3"
   ]
  },
  {
   "cell_type": "code",
   "execution_count": 14,
   "id": "c2fb0d85-277f-477c-8f4c-1391b5edf0d9",
   "metadata": {},
   "outputs": [
    {
     "name": "stdin",
     "output_type": "stream",
     "text": [
      "Enter something:  hi\n"
     ]
    },
    {
     "name": "stdout",
     "output_type": "stream",
     "text": [
      "You entered: hi\n"
     ]
    }
   ],
   "source": [
    "user_input = input(\"Enter something: \")\n",
    "print(\"You entered:\", user_input)\n"
   ]
  },
  {
   "cell_type": "code",
   "execution_count": 15,
   "id": "903ca5f8-1569-410b-8638-9ef5c31abe58",
   "metadata": {},
   "outputs": [
    {
     "name": "stdin",
     "output_type": "stream",
     "text": [
      "Enter something:  olah\n"
     ]
    },
    {
     "name": "stdout",
     "output_type": "stream",
     "text": [
      "Lowercase: olah\n"
     ]
    }
   ],
   "source": [
    "user_input = input(\"Enter something: \")\n",
    "print(\"Lowercase:\", user_input.lower())\n"
   ]
  },
  {
   "cell_type": "code",
   "execution_count": 16,
   "id": "50a527c3-a027-48d1-91ee-bd20b6120327",
   "metadata": {},
   "outputs": [
    {
     "name": "stdin",
     "output_type": "stream",
     "text": [
      "Enter something:  hello\n"
     ]
    },
    {
     "name": "stdout",
     "output_type": "stream",
     "text": [
      "Number of characters: 5\n"
     ]
    }
   ],
   "source": [
    "user_input = input(\"Enter something: \")\n",
    "print(\"Number of characters:\", len(user_input))\n"
   ]
  },
  {
   "cell_type": "markdown",
   "id": "d293fc1e-37f3-4789-9841-d10ce829a297",
   "metadata": {},
   "source": [
    "# Review Question 4"
   ]
  },
  {
   "cell_type": "code",
   "execution_count": 17,
   "id": "33e70ff2-526a-4b13-9ef2-2cfa904702d7",
   "metadata": {},
   "outputs": [
    {
     "name": "stdin",
     "output_type": "stream",
     "text": [
      "Tell me your name:  Louise\n"
     ]
    },
    {
     "name": "stdout",
     "output_type": "stream",
     "text": [
      "The first letter of your name is: L\n"
     ]
    }
   ],
   "source": [
    "name = input(\"Tell me your name: \")\n",
    "\n",
    "if name: \n",
    "    first_letter = name[0].upper()\n",
    "    print(\"The first letter of your name is:\", first_letter)\n",
    "else:\n",
    "    print(\"You didn't enter a name.\")\n"
   ]
  },
  {
   "cell_type": "markdown",
   "id": "71823f35-971c-4541-85e0-f1ea28449ef7",
   "metadata": {},
   "source": [
    "# Review Question 5"
   ]
  },
  {
   "cell_type": "code",
   "execution_count": 18,
   "id": "a601b96e-0ca1-45de-aec6-0e5b8e230b1f",
   "metadata": {},
   "outputs": [
    {
     "name": "stdout",
     "output_type": "stream",
     "text": [
      "210\n"
     ]
    }
   ],
   "source": [
    "num_str = \"42\"\n",
    "\n",
    "num_int = int(num_str)\n",
    "\n",
    "result = num_int * 5\n",
    "print(result)\n"
   ]
  },
  {
   "cell_type": "code",
   "execution_count": 19,
   "id": "308ef487-84e0-460d-b71f-4bd4ffd3ecd5",
   "metadata": {},
   "outputs": [
    {
     "name": "stdout",
     "output_type": "stream",
     "text": [
      "6.28\n"
     ]
    }
   ],
   "source": [
    "float_str = \"3.14\"\n",
    "num_float = float(float_str)\n",
    "print(num_float * 2)\n"
   ]
  },
  {
   "cell_type": "code",
   "execution_count": 20,
   "id": "5904c23d-439e-4f4b-bc6d-3fdd8c65608a",
   "metadata": {},
   "outputs": [
    {
     "name": "stdout",
     "output_type": "stream",
     "text": [
      "Apples 10\n"
     ]
    }
   ],
   "source": [
    "my_string = \"Apples\"\n",
    "my_int = 10\n",
    "print(my_string + \" \" + str(my_int))\n"
   ]
  },
  {
   "cell_type": "code",
   "execution_count": 21,
   "id": "8e0f4cbb-8360-449b-b198-350502df65f0",
   "metadata": {},
   "outputs": [
    {
     "name": "stdin",
     "output_type": "stream",
     "text": [
      "Enter the first number:  2\n",
      "Enter the second number:  4\n"
     ]
    },
    {
     "name": "stdout",
     "output_type": "stream",
     "text": [
      "The result of multiplication is: 8.0\n"
     ]
    }
   ],
   "source": [
    "num1 = input(\"Enter the first number: \")\n",
    "num2 = input(\"Enter the second number: \")\n",
    "\n",
    "num1 = float(num1)\n",
    "num2 = float(num2)\n",
    "\n",
    "result = num1 * num2\n",
    "print(\"The result of multiplication is:\", result)\n"
   ]
  },
  {
   "cell_type": "markdown",
   "id": "422f2f02-db1b-4165-a2b0-2471d0eea395",
   "metadata": {},
   "source": [
    "# Review Question 6"
   ]
  },
  {
   "cell_type": "code",
   "execution_count": 22,
   "id": "62fd5887-3197-4f91-979e-c75cf881a7ea",
   "metadata": {},
   "outputs": [
    {
     "name": "stdout",
     "output_type": "stream",
     "text": [
      "-1\n"
     ]
    }
   ],
   "source": [
    "print(\"AAA\".find(\"a\"))\n"
   ]
  },
  {
   "cell_type": "code",
   "execution_count": 23,
   "id": "145f5d43-0d27-40b7-9397-ca0860b560e6",
   "metadata": {},
   "outputs": [
    {
     "name": "stdout",
     "output_type": "stream",
     "text": [
      "Somebody yaid yomething to Samantha.\n"
     ]
    }
   ],
   "source": [
    "print(\"Somebody said something to Samantha.\".replace(\"s\", \"y\"))\n"
   ]
  },
  {
   "cell_type": "code",
   "execution_count": null,
   "id": "2849e37a-1b40-4dc5-925d-5d6ac31ae3b6",
   "metadata": {},
   "outputs": [],
   "source": [
    "user_input = input(\"Enter a string: \")\n",
    "letter = input(\"Enter a letter to find: \")\n",
    "print(user_input.find(letter))\n"
   ]
  },
  {
   "cell_type": "code",
   "execution_count": null,
   "id": "4309046a-3313-4dca-b469-514951be4f8f",
   "metadata": {},
   "outputs": [],
   "source": []
  }
 ],
 "metadata": {
  "kernelspec": {
   "display_name": "Python 3 (ipykernel)",
   "language": "python",
   "name": "python3"
  },
  "language_info": {
   "codemirror_mode": {
    "name": "ipython",
    "version": 3
   },
   "file_extension": ".py",
   "mimetype": "text/x-python",
   "name": "python",
   "nbconvert_exporter": "python",
   "pygments_lexer": "ipython3",
   "version": "3.13.5"
  }
 },
 "nbformat": 4,
 "nbformat_minor": 5
}

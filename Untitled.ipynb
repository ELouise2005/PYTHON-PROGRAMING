{
 "cells": [
  {
   "cell_type": "markdown",
   "id": "a1ba4616-be9c-4a87-b9e4-305cedcf46b0",
   "metadata": {},
   "source": [
    "# Review Question 1"
   ]
  },
  {
   "cell_type": "code",
   "execution_count": 2,
   "id": "80c787d5-8f6f-4b22-a061-404b3a85ab03",
   "metadata": {},
   "outputs": [
    {
     "name": "stdout",
     "output_type": "stream",
     "text": [
      "Length of the string: 13\n"
     ]
    }
   ],
   "source": [
    "my_string = \"Hello, World!\"\n",
    "print(\"Length of the string:\", len(my_string))\n"
   ]
  },
  {
   "cell_type": "code",
   "execution_count": 3,
   "id": "331d7331-0a19-499e-a9b3-1e2fa53e51cb",
   "metadata": {},
   "outputs": [
    {
     "name": "stdout",
     "output_type": "stream",
     "text": [
      "Concatenated string: HelloWorld\n"
     ]
    }
   ],
   "source": [
    "string1 = \"Hello\"\n",
    "string2 = \"World\"\n",
    "concatenated_string = string1 + string2\n",
    "print(\"Concatenated string:\", concatenated_string)"
   ]
  },
  {
   "cell_type": "code",
   "execution_count": 4,
   "id": "194a49ec-ce10-46a0-b2ec-a587ac1d6450",
   "metadata": {},
   "outputs": [
    {
     "name": "stdout",
     "output_type": "stream",
     "text": [
      "Concatenated with space: Hello World\n"
     ]
    }
   ],
   "source": [
    "string3 = \"Hello\"\n",
    "string4 = \"World\"\n",
    "concatenated_with_space = string3 + \" \" + string4\n",
    "print(\"Concatenated with space:\", concatenated_with_space)"
   ]
  },
  {
   "cell_type": "code",
   "execution_count": 5,
   "id": "6b9430f9-d269-4db5-8e12-4620c3144d60",
   "metadata": {},
   "outputs": [
    {
     "name": "stdout",
     "output_type": "stream",
     "text": [
      "Sliced string:  fo\n"
     ]
    }
   ],
   "source": [
    "original_string = \" The quick brown fox jumped over lazy dog. #1234567890!\"\n",
    "sliced_string = original_string[16:19]  # Slicing to get \"fox\"\n",
    "print(\"Sliced string:\", sliced_string)"
   ]
  },
  {
   "cell_type": "markdown",
   "id": "6ffbab41-47c8-4ca0-833c-67846dc41f25",
   "metadata": {},
   "source": [
    "# Review Question 2"
   ]
  },
  {
   "cell_type": "code",
   "execution_count": 8,
   "id": "132445e0-5d81-4b1f-9157-58b8df5b7d31",
   "metadata": {},
   "outputs": [
    {
     "name": "stdout",
     "output_type": "stream",
     "text": [
      "Lowercase strings:\n",
      "animals\n",
      "badger\n",
      "honey bee\n",
      "honeybadger\n"
     ]
    }
   ],
   "source": [
    "strings_to_lowercase = [\"Animals\", \"Badger\", \"Honey Bee\", \"Honeybadger\"]\n",
    "print(\"Lowercase strings:\")\n",
    "for s in strings_to_lowercase:\n",
    "    print(s.lower())"
   ]
  },
  {
   "cell_type": "code",
   "execution_count": 9,
   "id": "ffaa7bb4-3347-434a-a39f-ab71684849a9",
   "metadata": {},
   "outputs": [
    {
     "name": "stdout",
     "output_type": "stream",
     "text": [
      "\n",
      "Uppercase strings:\n",
      "ANIMALS\n",
      "BADGER\n",
      "HONEY BEE\n",
      "HONEYBADGER\n"
     ]
    }
   ],
   "source": [
    "strings_to_uppercase = [\"Animals\", \"Badger\", \"Honey Bee\", \"Honeybadger\"]\n",
    "print(\"\\nUppercase strings:\")\n",
    "for s in strings_to_uppercase:\n",
    "    print(s.upper())"
   ]
  },
  {
   "cell_type": "code",
   "execution_count": 10,
   "id": "bfadb4a2-ef92-4858-aae8-d1079b547a6f",
   "metadata": {},
   "outputs": [
    {
     "name": "stdout",
     "output_type": "stream",
     "text": [
      "\n",
      "Strings with whitespace removed:\n",
      "Filet Mignon\n",
      "Brisket\n"
     ]
    }
   ],
   "source": [
    "string1 = \" Filet Mignon\"\n",
    "string2 = \"Brisket \"\n",
    "removed_whitespace_string1 = string1.strip()  \n",
    "removed_whitespace_string2 = string2.strip()  \n",
    "print(\"\\nStrings with whitespace removed:\")\n",
    "print(removed_whitespace_string1)\n",
    "print(removed_whitespace_string2)"
   ]
  },
  {
   "cell_type": "code",
   "execution_count": 11,
   "id": "449a021d-f940-4fa1-bceb-839aecedbfc0",
   "metadata": {},
   "outputs": [
    {
     "name": "stdout",
     "output_type": "stream",
     "text": [
      "\n",
      "Checking if strings start with 'be':\n",
      " Filet Mignon: False\n",
      "Brisket : False\n"
     ]
    }
   ],
   "source": [
    "print(\"\\nChecking if strings start with 'be':\")\n",
    "print(f\"{string1}: {string1.startswith('be')}\")\n",
    "print(f\"{string2}: {string2.startswith('be')}\")"
   ]
  },
  {
   "cell_type": "code",
   "execution_count": 12,
   "id": "957c683a-ead6-47ee-9a34-60559d2720e5",
   "metadata": {},
   "outputs": [
    {
     "name": "stdout",
     "output_type": "stream",
     "text": [
      "\n",
      "Altering strings to start with 'be':\n",
      "Altered ' Filet Mignon':  filet mignon\n",
      "Altered 'Brisket ': brisket \n"
     ]
    }
   ],
   "source": [
    "altered_string1 = string1.lower() \n",
    "altered_string2 = string2.lower() \n",
    "print(\"\\nAltering strings to start with 'be':\")\n",
    "print(f\"Altered '{string1}': {altered_string1}\")\n",
    "print(f\"Altered '{string2}': {altered_string2}\")"
   ]
  },
  {
   "cell_type": "markdown",
   "id": "8f817661-b294-462f-b81d-81dea4b141da",
   "metadata": {},
   "source": [
    "# Review Question 3"
   ]
  },
  {
   "cell_type": "code",
   "execution_count": 18,
   "id": "f3c850f2-00b4-4e12-be92-6868b7f121c9",
   "metadata": {},
   "outputs": [
    {
     "name": "stdin",
     "output_type": "stream",
     "text": [
      "Enter something:  olah\n"
     ]
    },
    {
     "name": "stdout",
     "output_type": "stream",
     "text": [
      "You entered: olah\n"
     ]
    }
   ],
   "source": [
    "user_input = input(\"Enter something: \")\n",
    "print(\"You entered:\", user_input)"
   ]
  },
  {
   "cell_type": "code",
   "execution_count": 24,
   "id": "67e2d763-dc66-44b8-b2a7-cf1b4410f1cd",
   "metadata": {},
   "outputs": [
    {
     "name": "stdin",
     "output_type": "stream",
     "text": [
      "Enter something: Pay\n"
     ]
    },
    {
     "name": "stdout",
     "output_type": "stream",
     "text": [
      "Your input in lowercase: pay\n"
     ]
    }
   ],
   "source": [
    "user_input = input(\"Enter something:\")\n",
    "print(\"Your input in lowercase:\",user_input.lower())"
   ]
  },
  {
   "cell_type": "code",
   "execution_count": 23,
   "id": "94ca8121-a778-4654-a27b-289b59193c2f",
   "metadata": {},
   "outputs": [
    {
     "name": "stdin",
     "output_type": "stream",
     "text": [
      "Enter Something: ggggg\n"
     ]
    },
    {
     "name": "stdout",
     "output_type": "stream",
     "text": [
      "Number of characters in your input: 5\n"
     ]
    }
   ],
   "source": [
    "user_input = input(\"Enter Something:\")\n",
    "print(\"Number of characters in your input:\", len(user_input))"
   ]
  },
  {
   "cell_type": "markdown",
   "id": "20e5c156-ce3f-4249-9cef-6c3d14bf7383",
   "metadata": {},
   "source": [
    "# Review Question 4"
   ]
  },
  {
   "cell_type": "code",
   "execution_count": 27,
   "id": "ff1ac3f7-1470-45a4-8a21-949b1ffe0056",
   "metadata": {},
   "outputs": [
    {
     "name": "stdin",
     "output_type": "stream",
     "text": [
      "Tell me your name:  Louise\n"
     ]
    },
    {
     "name": "stdout",
     "output_type": "stream",
     "text": [
      "The first letter of your name is: L\n"
     ]
    }
   ],
   "source": [
    "name = input(\"Tell me your name: \")\n",
    "\n",
    "if name:\n",
    "    # Get the first letter and convert it to uppercase\n",
    "    first_letter = name[0].upper()\n",
    "    print(\"The first letter of your name is:\", first_letter)\n",
    "else:\n",
    "    print(\"You didn't enter a name.\")\n"
   ]
  },
  {
   "cell_type": "markdown",
   "id": "a632d7d8-5a0f-40a0-bf94-ff66363aea02",
   "metadata": {},
   "source": [
    "# Review Question 5"
   ]
  },
  {
   "cell_type": "code",
   "execution_count": 29,
   "id": "1369f713-9d22-469f-8756-388752291077",
   "metadata": {},
   "outputs": [
    {
     "name": "stdout",
     "output_type": "stream",
     "text": [
      "Integer multiplication: 42 * 5 = 210\n"
     ]
    }
   ],
   "source": [
    "int_string = \"42\"\n",
    "int_number = int(int_string)\n",
    "result_int = int_number * 5\n",
    "print(f\"Integer multiplication: {int_number} * 5 = {result_int}\")"
   ]
  },
  {
   "cell_type": "code",
   "execution_count": 30,
   "id": "0dda8650-2512-4b87-9861-e960afd815cb",
   "metadata": {},
   "outputs": [
    {
     "name": "stdout",
     "output_type": "stream",
     "text": [
      "Float multiplication: 3.14 * 2 = 6.28\n"
     ]
    }
   ],
   "source": [
    "float_string = \"3.14\"\n",
    "float_number = float(float_string)\n",
    "result_float = float_number * 2\n",
    "print(f\"Float multiplication: {float_number} * 2 = {result_float}\")"
   ]
  },
  {
   "cell_type": "code",
   "execution_count": 31,
   "id": "3d0c110a-9f0c-4e89-8f3c-9a60fe183840",
   "metadata": {},
   "outputs": [
    {
     "name": "stdout",
     "output_type": "stream",
     "text": [
      "The number is 7\n"
     ]
    }
   ],
   "source": [
    "some_string = \"The number is\"\n",
    "some_int = 7\n",
    "print(some_string + \" \" + str(some_int))\n"
   ]
  },
  {
   "cell_type": "code",
   "execution_count": null,
   "id": "93b0944a-0df3-4793-9fa4-2ba83365d57f",
   "metadata": {},
   "outputs": [
    {
     "name": "stdin",
     "output_type": "stream",
     "text": [
      "Enter the first number:  42\n"
     ]
    }
   ],
   "source": [
    "num1 = input(\"Enter the first number: \")\n",
    "num2 = input(\"Enter the second number: \")\n"
   ]
  },
  {
   "cell_type": "code",
   "execution_count": null,
   "id": "68397970-6319-48f2-bae2-6e31de0250ab",
   "metadata": {},
   "outputs": [],
   "source": [
    "num1_float = float(num1)\n",
    "num2_float = float(num2)\n",
    "\n",
    "product = num1_float * num2_float\n",
    "print(f\"The product of {num1_float} and {num2_float} is {product}\")"
   ]
  }
 ],
 "metadata": {
  "kernelspec": {
   "display_name": "Python 3 (ipykernel)",
   "language": "python",
   "name": "python3"
  },
  "language_info": {
   "codemirror_mode": {
    "name": "ipython",
    "version": 3
   },
   "file_extension": ".py",
   "mimetype": "text/x-python",
   "name": "python",
   "nbconvert_exporter": "python",
   "pygments_lexer": "ipython3",
   "version": "3.13.5"
  }
 },
 "nbformat": 4,
 "nbformat_minor": 5
}

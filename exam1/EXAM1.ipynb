{
 "cells": [
  {
   "cell_type": "markdown",
   "id": "f26b9f86-cb58-4ed2-84c9-6f6e3f0c982b",
   "metadata": {},
   "source": [
    "# 1st Long Exam Date: 09/10/2025\n"
   ]
  },
  {
   "cell_type": "markdown",
   "id": "38d8cb39-21f3-467c-b999-6bee0b0563ad",
   "metadata": {},
   "source": [
    "# OTADOY, EVITHA LOUISE C. BSIT-3C ID:23834997"
   ]
  },
  {
   "cell_type": "markdown",
   "id": "9d062fe4-5c2d-4798-88c3-055fc800da93",
   "metadata": {},
   "source": [
    "# QUESTION 1"
   ]
  },
  {
   "cell_type": "code",
   "execution_count": 1,
   "id": "6c32ee95-c30a-4af7-a026-fde5c2b5bd0c",
   "metadata": {},
   "outputs": [
    {
     "name": "stdin",
     "output_type": "stream",
     "text": [
      "Enter your first name: pay\n"
     ]
    },
    {
     "name": "stdout",
     "output_type": "stream",
     "text": [
      "Hello pay!\n"
     ]
    }
   ],
   "source": [
    "name = input(\"Enter your first name:\")\n",
    "print(\"Hello\" , name + \"!\")"
   ]
  },
  {
   "cell_type": "markdown",
   "id": "83007fde-7365-4a89-8a6b-dafe712870d2",
   "metadata": {},
   "source": [
    "# QUESTION 2"
   ]
  },
  {
   "cell_type": "code",
   "execution_count": 15,
   "id": "740b7d22-023d-4d02-8067-3c337115d82a",
   "metadata": {},
   "outputs": [
    {
     "name": "stdin",
     "output_type": "stream",
     "text": [
      "Enter a positive integer:  3\n"
     ]
    },
    {
     "name": "stdout",
     "output_type": "stream",
     "text": [
      "The sum form 1 to 3 is 2\n"
     ]
    }
   ],
   "source": [
    "n = int (input (\"Enter a positive integer: \"))\n",
    "s = int * (n + 1) //2\n",
    "print (\"The sum form 1 to\" , n , \"is\" , s)"
   ]
  },
  {
   "cell_type": "markdown",
   "id": "d158693c-4dcb-4b01-8f76-c882a19cc256",
   "metadata": {},
   "source": [
    "# QUESTION 3"
   ]
  },
  {
   "cell_type": "code",
   "execution_count": 16,
   "id": "65d9e6ad-c853-4c1f-a686-da72aed73456",
   "metadata": {},
   "outputs": [
    {
     "ename": "SyntaxError",
     "evalue": "invalid syntax (265296999.py, line 1)",
     "output_type": "error",
     "traceback": [
      "\u001b[1;36m  Cell \u001b[1;32mIn[16], line 1\u001b[1;36m\u001b[0m\n\u001b[1;33m    letter = input (\"Enter a letter\": ) lower()\u001b[0m\n\u001b[1;37m                                    ^\u001b[0m\n\u001b[1;31mSyntaxError\u001b[0m\u001b[1;31m:\u001b[0m invalid syntax\n"
     ]
    }
   ],
   "source": [
    "letter = input (\"Enter a letter\": ) lower()\n",
    "  if letter in \"aeiou\":\n",
    "      print(f\"{letter} is a vowel \")\n",
    "  elif letter = = \"y\":\n",
    "print\"Sometimes \"y\" is a vowel, and sometimes \"y\" is a constant\"\n",
    "else:\n",
    "print(f\"{letter} is a constant\")"
   ]
  },
  {
   "cell_type": "markdown",
   "id": "ece1acf7-648a-4fec-ba16-04adc7560e8b",
   "metadata": {},
   "source": [
    "# QUESTION 4"
   ]
  },
  {
   "cell_type": "code",
   "execution_count": 18,
   "id": "89ae6d52-cd1e-4a71-9773-4ded23f9ef15",
   "metadata": {},
   "outputs": [
    {
     "ename": "SyntaxError",
     "evalue": "invalid syntax (1930378319.py, line 1)",
     "output_type": "error",
     "traceback": [
      "\u001b[1;36m  Cell \u001b[1;32mIn[18], line 1\u001b[1;36m\u001b[0m\n\u001b[1;33m    def=is_palindrome(text:Str) -> bool\u001b[0m\n\u001b[1;37m       ^\u001b[0m\n\u001b[1;31mSyntaxError\u001b[0m\u001b[1;31m:\u001b[0m invalid syntax\n"
     ]
    }
   ],
   "source": [
    "def=is_palindrome(text:Str) -> bool\n",
    "cleaned='' Join (char.lower() for char in text\n",
    "if char.isalnom()\n",
    "return cleaned = =[::]\n",
    "word = Input (\"Enter a word:\"\n",
    "    if is_palindrome(word)\n",
    "        print(\"Yeah, It's a Palindrome\")\n",
    "else:\n",
    "    print(\"Not a Palindrome\")"
   ]
  },
  {
   "cell_type": "code",
   "execution_count": null,
   "id": "9d1c28cb-3122-41c2-bd5b-5516e2505497",
   "metadata": {},
   "outputs": [],
   "source": []
  }
 ],
 "metadata": {
  "kernelspec": {
   "display_name": "Python 3 (ipykernel)",
   "language": "python",
   "name": "python3"
  },
  "language_info": {
   "codemirror_mode": {
    "name": "ipython",
    "version": 3
   },
   "file_extension": ".py",
   "mimetype": "text/x-python",
   "name": "python",
   "nbconvert_exporter": "python",
   "pygments_lexer": "ipython3",
   "version": "3.13.5"
  }
 },
 "nbformat": 4,
 "nbformat_minor": 5
}

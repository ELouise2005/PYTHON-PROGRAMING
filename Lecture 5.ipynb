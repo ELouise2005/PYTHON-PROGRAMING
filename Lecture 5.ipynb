{
 "cells": [
  {
   "cell_type": "markdown",
   "id": "037f2c97-282d-4f00-b1cf-8253bd70f67e",
   "metadata": {},
   "source": [
    "# REVIEW EXERCISES 1"
   ]
  },
  {
   "cell_type": "code",
   "execution_count": 1,
   "id": "6c6a50df-d84c-4a4b-aece-e085449aebd0",
   "metadata": {},
   "outputs": [
    {
     "name": "stdout",
     "output_type": "stream",
     "text": [
      "('FIRST', 'SECOND', 'THIRD')\n"
     ]
    }
   ],
   "source": [
    "Cardinal_Numbers = (\"FIRST\", \"SECOND\", \"THIRD\")\n",
    "print(Cardinal_Numbers)"
   ]
  },
  {
   "cell_type": "code",
   "execution_count": 2,
   "id": "a4dcf094-df29-4d74-b337-e555d8fab668",
   "metadata": {},
   "outputs": [
    {
     "name": "stdout",
     "output_type": "stream",
     "text": [
      "SECOND\n"
     ]
    }
   ],
   "source": [
    "print(Cardinal_Numbers[1])"
   ]
  },
  {
   "cell_type": "code",
   "execution_count": 3,
   "id": "a3a8adfe-4648-42ff-b1a7-1c20409ba54a",
   "metadata": {},
   "outputs": [
    {
     "name": "stdout",
     "output_type": "stream",
     "text": [
      "FIRST\n",
      "SECOND\n",
      "THIRD\n"
     ]
    }
   ],
   "source": [
    "position1, position2, position3 = Cardinal_Numbers\n",
    "print(position1)\n",
    "print(position2)\n",
    "print(position3)"
   ]
  },
  {
   "cell_type": "code",
   "execution_count": 4,
   "id": "81a61ae9-1370-4c40-98c4-2473a5e7572c",
   "metadata": {},
   "outputs": [
    {
     "name": "stdout",
     "output_type": "stream",
     "text": [
      "('l', 'o', 'u', 'i', 's', 'e')\n"
     ]
    }
   ],
   "source": [
    "My_name = tuple(\"louise\")\n",
    "print(My_name)"
   ]
  },
  {
   "cell_type": "code",
   "execution_count": 5,
   "id": "e687dcd8-8c11-4e63-ab46-170cf94f375a",
   "metadata": {},
   "outputs": [
    {
     "name": "stdout",
     "output_type": "stream",
     "text": [
      "False\n"
     ]
    }
   ],
   "source": [
    "print(\"x\" in My_name)"
   ]
  },
  {
   "cell_type": "code",
   "execution_count": 6,
   "id": "f4b8edec-a437-4106-8141-433bceb76faa",
   "metadata": {},
   "outputs": [
    {
     "name": "stdout",
     "output_type": "stream",
     "text": [
      "('o', 'u', 'i', 's', 'e')\n"
     ]
    }
   ],
   "source": [
    "First_Letter_in_My_Name = tuple(My_name[1::])\n",
    "print(First_Letter_in_My_Name)"
   ]
  },
  {
   "cell_type": "markdown",
   "id": "bf7dc54f-6a5e-48d6-9f7d-4f79221b6367",
   "metadata": {},
   "source": [
    "# REVIEW EXERCISES 2"
   ]
  },
  {
   "cell_type": "code",
   "execution_count": 3,
   "id": "7960dbda-ef0b-4f72-9dde-ad8930dbfaf9",
   "metadata": {},
   "outputs": [],
   "source": [
    "Food = [\"RICE\",\"BEANS\"]"
   ]
  },
  {
   "cell_type": "code",
   "execution_count": 4,
   "id": "e483d231-78fe-4db3-81cc-c40309ba4f45",
   "metadata": {},
   "outputs": [],
   "source": [
    "Food.append(\"BROCOLLI\")"
   ]
  },
  {
   "cell_type": "code",
   "execution_count": 5,
   "id": "a252fbd7-4d27-4da1-963f-ddb03f42021c",
   "metadata": {},
   "outputs": [],
   "source": [
    "Food.extend([\"BREAD\", \"PIZZA\"])"
   ]
  },
  {
   "cell_type": "code",
   "execution_count": 6,
   "id": "f13277eb-4ad2-49b3-88c7-3b32c13de07a",
   "metadata": {},
   "outputs": [
    {
     "name": "stdout",
     "output_type": "stream",
     "text": [
      "['RICE', 'BEANS']\n"
     ]
    }
   ],
   "source": [
    "print(Food[0:2])"
   ]
  },
  {
   "cell_type": "code",
   "execution_count": 7,
   "id": "2bd0d60c-5dde-4c92-8390-96e14df6f28c",
   "metadata": {},
   "outputs": [
    {
     "name": "stdout",
     "output_type": "stream",
     "text": [
      "PIZZA\n"
     ]
    }
   ],
   "source": [
    "print(Food[len(Food)-1])"
   ]
  },
  {
   "cell_type": "code",
   "execution_count": 8,
   "id": "18cc8591-a99d-4023-89cf-375667f80fe8",
   "metadata": {},
   "outputs": [
    {
     "name": "stdout",
     "output_type": "stream",
     "text": [
      "['EGGS', 'FRUIT', 'ORANGE JUICE']\n"
     ]
    }
   ],
   "source": [
    "string_food = \"EGGS, FRUIT, ORANGE JUICE\"\n",
    "Breakfast = string_food.split(\", \")\n",
    "print(Breakfast)"
   ]
  },
  {
   "cell_type": "code",
   "execution_count": 9,
   "id": "9f7603be-aba6-478d-bee5-e98a21d72144",
   "metadata": {},
   "outputs": [
    {
     "name": "stdout",
     "output_type": "stream",
     "text": [
      "3\n"
     ]
    }
   ],
   "source": [
    "print(len(Breakfast))"
   ]
  },
  {
   "cell_type": "code",
   "execution_count": 10,
   "id": "bd3bbeb4-753a-440d-b467-0c1e6699ee3e",
   "metadata": {},
   "outputs": [
    {
     "name": "stdout",
     "output_type": "stream",
     "text": [
      "[4, 5, 12]\n"
     ]
    }
   ],
   "source": [
    "Lengths = [len(value) for value in Breakfast]\n",
    "print(Lengths)"
   ]
  },
  {
   "cell_type": "markdown",
   "id": "908b885b-5082-4fdc-8ee2-b948a1020902",
   "metadata": {},
   "source": [
    "# REVIEW EXERCISES 3"
   ]
  },
  {
   "cell_type": "code",
   "execution_count": 11,
   "id": "efe86d3e-29bc-4011-965a-5ed1c1c0aab3",
   "metadata": {},
   "outputs": [],
   "source": [
    "data = ((1,2),(3,4))"
   ]
  },
  {
   "cell_type": "code",
   "execution_count": 12,
   "id": "5c458469-df63-48f0-9a49-e7f91d1c9ea0",
   "metadata": {},
   "outputs": [
    {
     "name": "stdout",
     "output_type": "stream",
     "text": [
      "Row = 1 sum = 3\n",
      "Row = 2 sum = 7\n"
     ]
    }
   ],
   "source": [
    "for n in range(len(data)):\n",
    "    sum=0\n",
    "    for value in data[n]:\n",
    "        sum += value\n",
    "    print(f\"Row = {n+1} sum = {sum}\")"
   ]
  },
  {
   "cell_type": "code",
   "execution_count": 13,
   "id": "b88cf188-4d38-40c7-b2fa-fbf78b053f9d",
   "metadata": {},
   "outputs": [
    {
     "name": "stdout",
     "output_type": "stream",
     "text": [
      "[2, 3, 4, 9, 1, 7]\n"
     ]
    }
   ],
   "source": [
    "num_list = [2,3,4,9,1,7]\n",
    "numbers = num_list[:]\n",
    "print(numbers)"
   ]
  },
  {
   "cell_type": "code",
   "execution_count": 14,
   "id": "c4542db4-0fb7-4dd0-afab-ad293ce7d263",
   "metadata": {},
   "outputs": [
    {
     "name": "stdout",
     "output_type": "stream",
     "text": [
      "[1, 2, 3, 4, 7, 9]\n"
     ]
    }
   ],
   "source": [
    "num_list.sort()\n",
    "print(num_list)"
   ]
  },
  {
   "cell_type": "markdown",
   "id": "ea39ac31-7231-4fed-814a-fe7d948b75c7",
   "metadata": {},
   "source": [
    "# CHALLENGE: LIST OF LISTS"
   ]
  },
  {
   "cell_type": "code",
   "execution_count": 15,
   "id": "a5a805b4-f3fc-4369-b784-5b58f440b112",
   "metadata": {},
   "outputs": [
    {
     "name": "stdout",
     "output_type": "stream",
     "text": [
      "[['California Institute of Technology', 2175, 37704], ['Harvard', 19627, 39849], ['Massachusetts Institute of Technology', 10566, 40732], ['Princeton', 7802, 37000], ['Rice', 5879, 35551], ['Stanford', 19535, 40569], ['Yale', 11701, 40500]]\n"
     ]
    }
   ],
   "source": [
    "universities = [\n",
    "                ['California Institute of Technology', 2175, 37704],\n",
    "                ['Harvard', 19627, 39849],\n",
    "                ['Massachusetts Institute of Technology', 10566, 40732],\n",
    "                ['Princeton', 7802, 37000],\n",
    "                ['Rice', 5879, 35551],\n",
    "                ['Stanford', 19535, 40569],\n",
    "                ['Yale', 11701, 40500]\n",
    "]\n",
    "\n",
    "print(universities)"
   ]
  },
  {
   "cell_type": "markdown",
   "id": "e3dc9b51-d465-4896-9489-035f65e2d0f7",
   "metadata": {},
   "source": [
    "# CHALLENGE: WAX POETIC"
   ]
  },
  {
   "cell_type": "code",
   "execution_count": 16,
   "id": "3fd65846-b995-484b-bf86-ada8359d67b1",
   "metadata": {},
   "outputs": [
    {
     "name": "stdout",
     "output_type": "stream",
     "text": [
      "['FOSSIL', 'HORSE', 'AARDVARK', 'JUDGE', 'CHEF', 'MANGO', 'EXTROVERT', 'GORILLA']\n",
      "['KICKS', 'JINGLES', 'BOUNCES', 'SLURPS', 'MEOWS', 'EXPLODES', 'CURDLES']\n",
      "['FURRY', 'BALDING', 'INCREDULOUS', 'FRAGRANT', 'EXUBERANT', 'GLISTENING']\n",
      "['AGAINST', 'AFTER', 'INTO', 'BENEATH', 'UPON', 'FOR', 'IN', 'LIKE', 'OVER', 'WITHIN']\n",
      "['CURIOUSLY', 'FURIOUSLY', 'SENSUOUSLYEXTRAVAGANTLY', 'TANTALIZINLY']\n"
     ]
    }
   ],
   "source": [
    "NOUNS = [\"FOSSIL\", \"HORSE\", \"AARDVARK\", \"JUDGE\", \"CHEF\", \"MANGO\",\"EXTROVERT\", \"GORILLA\"]\n",
    "VERBS = [\"KICKS\", \"JINGLES\", \"BOUNCES\", \"SLURPS\", \"MEOWS\", \"EXPLODES\", \"CURDLES\"]\n",
    "ADJECTIVES = [\"FURRY\", \"BALDING\", \"INCREDULOUS\", \"FRAGRANT\", \"EXUBERANT\", \"GLISTENING\"]\n",
    "PREPOSITIONS = [\"AGAINST\", \"AFTER\", \"INTO\", \"BENEATH\", \"UPON\", \"FOR\", \"IN\", \"LIKE\", \"OVER\", \"WITHIN\"]\n",
    "ADVERBS = [\"CURIOUSLY\", \"FURIOUSLY\", \"SENSUOUSLY\" \"EXTRAVAGANTLY\", \"TANTALIZINLY\"]\n",
    "\n",
    "print(NOUNS)\n",
    "print(VERBS)\n",
    "print(ADJECTIVES)\n",
    "print(PREPOSITIONS)\n",
    "print(ADVERBS)"
   ]
  },
  {
   "cell_type": "markdown",
   "id": "f3d90877-ed7f-4dd7-aa3c-c25921d979cd",
   "metadata": {},
   "source": [
    "# REVIEW EXERCISES 4"
   ]
  },
  {
   "cell_type": "code",
   "execution_count": 17,
   "id": "5e299a3b-3a62-4351-abe7-fd5729283109",
   "metadata": {},
   "outputs": [],
   "source": [
    "captains = {}"
   ]
  },
  {
   "cell_type": "code",
   "execution_count": 18,
   "id": "91715aa1-ec02-4ab6-98db-c8301288a239",
   "metadata": {},
   "outputs": [
    {
     "name": "stdout",
     "output_type": "stream",
     "text": [
      "'Enterprise' : 'Picard'\n",
      "'Voyager' : 'Janeway'\n",
      "'Defiant' : 'Sisco'\n"
     ]
    }
   ],
   "source": [
    "captains = {}\n",
    "captains[\"Enterprise\"] = \"Picard\"\n",
    "captains[\"Voyager\"] = \"Janeway\"\n",
    "captains[\"Defiant\"] = \"Sisco\"\n",
    "\n",
    "for n in captains:\n",
    "        print(f\"'{n}' : '{captains[n]}'\")"
   ]
  },
  {
   "cell_type": "code",
   "execution_count": 19,
   "id": "d1f606df-cc37-40bb-ab0a-477abb8f8362",
   "metadata": {},
   "outputs": [
    {
     "name": "stdout",
     "output_type": "stream",
     "text": [
      "'Enterprise' : 'Picard'\n",
      "'Voyager' : 'Janeway'\n",
      "'Defiant' : 'Sisco'\n",
      "'Discovery' : 'Unknwon'\n"
     ]
    }
   ],
   "source": [
    "if not (\"Enterprise\" in captains): captains[\"Eterprise\"] = \"Unknown\"\n",
    "if not (\"Discovery\" in captains): captains[\"Discovery\"] = \"Unknwon\"\n",
    "\n",
    "for n in captains:\n",
    "        print(f\"'{n}' : '{captains[n]}'\")"
   ]
  },
  {
   "cell_type": "code",
   "execution_count": 20,
   "id": "912351d9-2297-424b-af67-7821d58db5f4",
   "metadata": {},
   "outputs": [
    {
     "name": "stdout",
     "output_type": "stream",
     "text": [
      "The Enterprise is captained by Picard.\n",
      "The Voyager is captained by Janeway.\n",
      "The Defiant is captained by Sisco.\n",
      "The Discovery is captained by Unknwon.\n"
     ]
    }
   ],
   "source": [
    "for n in captains:\n",
    "        print(f\"The {n} is captained by {captains[n]}.\")"
   ]
  },
  {
   "cell_type": "code",
   "execution_count": 21,
   "id": "ed85a466-977d-4aba-84b3-03099cd946fd",
   "metadata": {},
   "outputs": [
    {
     "name": "stdout",
     "output_type": "stream",
     "text": [
      "'Enterprise' : 'Picard'\n",
      "'Voyager' : 'Janeway'\n",
      "'Defiant' : 'Sisco'\n"
     ]
    }
   ],
   "source": [
    "del captains[\"Discovery\"]\n",
    "for n in captains: print(f\"'{n}' : '{captains[n]}'\")"
   ]
  },
  {
   "cell_type": "code",
   "execution_count": 22,
   "id": "41db043d-d7c0-4b13-a815-8f3e477e9e8f",
   "metadata": {},
   "outputs": [
    {
     "name": "stdout",
     "output_type": "stream",
     "text": [
      "'Enterprise' : 'Picard'\n",
      "'Voyager' : 'Janeway'\n",
      "'Defiant' : 'Sisco'\n"
     ]
    }
   ],
   "source": [
    "key_pairs = ((\"Enterprise\", \"Picard\"),\n",
    "             (\"Voyager\", \"Janeway\"),\n",
    "             (\"Defiant\", \"Sisco\")\n",
    "            )\n",
    "captains_new = dict(key_pairs)\n",
    "for n in captains_new: print(f\"'{n}' : '{captains_new[n]}'\")"
   ]
  },
  {
   "cell_type": "markdown",
   "id": "62780fb4-8698-4cae-82cd-f13d11fe773a",
   "metadata": {},
   "source": [
    "# CHALLENGE: CAPITAL CITY LOOP"
   ]
  },
  {
   "cell_type": "code",
   "execution_count": 23,
   "id": "3c7f9305-b72f-4dbf-a2cc-dfc11fa4359f",
   "metadata": {},
   "outputs": [
    {
     "name": "stdout",
     "output_type": "stream",
     "text": [
      "'Alabama' : 'Montgomery'\n",
      "'Alaska' : 'Juneau'\n",
      "'Arizona' : 'Phoenix'\n",
      "'Arkansas' : 'Little Rock'\n",
      "'California' : 'Sacramento'\n",
      "'Colorado' : 'Denver'\n",
      "'Connecticut' : 'Hartford'\n",
      "'Delaware' : 'Dover'\n",
      "'Florida' : 'Tallahassee'\n",
      "'Georgia' : 'Atlanta'\n"
     ]
    }
   ],
   "source": [
    "capitals_dict={\n",
    "    'Alabama': 'Montgomery',\n",
    "    'Alaska': 'Juneau',\n",
    "     'Arizona': 'Phoenix',\n",
    "    'Arkansas': 'Little Rock',\n",
    "    'California': 'Sacramento',\n",
    "    'Colorado': 'Denver',\n",
    "    'Connecticut': 'Hartford',\n",
    "    'Delaware': 'Dover',\n",
    "    'Florida': 'Tallahassee',\n",
    "    'Georgia': 'Atlanta',\n",
    "}\n",
    "\n",
    "for n in capitals_dict: \n",
    "    print(f\"'{n}' : '{capitals_dict[n]}'\")"
   ]
  },
  {
   "cell_type": "code",
   "execution_count": null,
   "id": "b1ee6ffc-2c97-4a06-bbbd-f002873b7414",
   "metadata": {},
   "outputs": [],
   "source": []
  }
 ],
 "metadata": {
  "kernelspec": {
   "display_name": "Python 3 (ipykernel)",
   "language": "python",
   "name": "python3"
  },
  "language_info": {
   "codemirror_mode": {
    "name": "ipython",
    "version": 3
   },
   "file_extension": ".py",
   "mimetype": "text/x-python",
   "name": "python",
   "nbconvert_exporter": "python",
   "pygments_lexer": "ipython3",
   "version": "3.13.5"
  }
 },
 "nbformat": 4,
 "nbformat_minor": 5
}

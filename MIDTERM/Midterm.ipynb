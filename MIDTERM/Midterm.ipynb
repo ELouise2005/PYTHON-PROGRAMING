{
 "cells": [
  {
   "cell_type": "markdown",
   "id": "3f5bbac6-932c-405d-9aa1-7e253918b9b7",
   "metadata": {},
   "source": [
    "# Midterm"
   ]
  },
  {
   "cell_type": "markdown",
   "id": "8b754ecf-ca64-46a1-9d76-81b5b8ea6cf1",
   "metadata": {},
   "source": [
    "# Q1"
   ]
  },
  {
   "cell_type": "code",
   "execution_count": 1,
   "id": "80992a62-a6d6-423f-b7ca-ddc80913b1d1",
   "metadata": {},
   "outputs": [],
   "source": [
    "def normalize_and_find(text: str, needle: str) -> int:\n",
    "    normalized_text = text.strip().lower()\n",
    "    needle = needle.lower()\n",
    "    return normalized_text.find(needle)\n",
    "\n",
    "\n",
    "if __name__ == \"__main__\":\n",
    "    import doctest\n",
    "    doctest.testmod()"
   ]
  },
  {
   "cell_type": "markdown",
   "id": "3be01325-4e2e-452f-9e58-04cf1e78a595",
   "metadata": {},
   "source": [
    "# Q2"
   ]
  },
  {
   "cell_type": "code",
   "execution_count": 2,
   "id": "253747e5-e3f2-4060-9dd8-8d718ba6e595",
   "metadata": {},
   "outputs": [
    {
     "name": "stdout",
     "output_type": "stream",
     "text": [
      "**********************************************************************\n",
      "File \"__main__\", line 18, in NoName\n",
      "Failed example:\n",
      "    translate(\"Python 3.9\", {'p': '9', 'y': '7', 't': '+'})\n",
      "Expected:\n",
      "    '9 7h+on 3.9'\n",
      "Got:\n",
      "    'P7+hon 3.9'\n"
     ]
    }
   ],
   "source": [
    "def translate(text: str, mapping: dict[str, str]) -> str:\n",
    "    result_chars = [\n",
    "        mapping.get(ch, ch) if 'a' <= ch <= 'z' else ch\n",
    "        for ch in text\n",
    "    ]\n",
    "    return ''.join(result_chars)\n",
    "\n",
    "\n",
    "if __name__ == \"__main__\":\n",
    "    import doctest\n",
    "\n",
    "    def _test():\n",
    "        \"\"\"\n",
    "        >>> translate(\"hello world!\", {'a': '4', 'e': '3', 'l': '1', 'o': '0'})\n",
    "        'h3110 w0r1d!'\n",
    "        >>> translate(\"Leetspeak\", {'a': '4', 'e': '3', 'l': '1', 'o': '0'})\n",
    "        'L33tsp34k'\n",
    "        >>> translate(\"Python 3.9\", {'p': '9', 'y': '7', 't': '+'})\n",
    "        '9 7h+on 3.9'\n",
    "        >>> translate(\"\", {'a': '4'})\n",
    "        ''\n",
    "        >>> translate(\"No changes\", {})\n",
    "        'No changes'\n",
    "        \"\"\"\n",
    "    doctest.run_docstring_examples(_test, globals())\n",
    "\n",
    "    _test()\n"
   ]
  },
  {
   "cell_type": "markdown",
   "id": "70455069-9335-4d07-a81b-23be7214e222",
   "metadata": {},
   "source": [
    "# Q3"
   ]
  },
  {
   "cell_type": "code",
   "execution_count": 3,
   "id": "4a78d32c-ca62-4e6d-96a9-11ddaca60c58",
   "metadata": {},
   "outputs": [
    {
     "name": "stdout",
     "output_type": "stream",
     "text": [
      "**********************************************************************\n",
      "File \"__main__\", line 18, in __main__._test\n",
      "Failed example:\n",
      "    translate(\"Python 3.9\", {'p': '9', 'y': '7', 't': '+'})\n",
      "Expected:\n",
      "    '9 7h+on 3.9'\n",
      "Got:\n",
      "    'P7+hon 3.9'\n",
      "**********************************************************************\n",
      "File \"__main__\", line 15, in __main__.fmt_money\n",
      "Failed example:\n",
      "    fmt_money(0.005)\n",
      "Expected:\n",
      "    '0.00'\n",
      "Got:\n",
      "    '0.01'\n",
      "\u001b[31m**********************************************************************\u001b[0m\n",
      "2 items had failures:\n",
      "   1 of   5 in __main__._test\n",
      "   1 of   5 in __main__.fmt_money\n",
      "\u001b[1;31m***Test Failed*** 2 failures\u001b[0m.\n"
     ]
    }
   ],
   "source": [
    "def fmt_money(x: float) -> str:\n",
    "    \"\"\"\n",
    "    Format a float as a currency string with commas and two decimal places,\n",
    "    using ties-to-even rounding (banker's rounding).\n",
    "    \n",
    "    Examples:\n",
    "    >>> fmt_money(1234.5)\n",
    "    '1,234.50'\n",
    "    >>> fmt_money(2.5)\n",
    "    '2.50'\n",
    "    >>> fmt_money(3.5)\n",
    "    '3.50'\n",
    "    >>> fmt_money(1234567.895)\n",
    "    '1,234,567.90'\n",
    "    >>> fmt_money(0.005)\n",
    "    '0.00'\n",
    "    \"\"\"\n",
    "    rounded = round(x, 2)  \n",
    "    return f\"{rounded:,.2f}\"\n",
    "\n",
    "\n",
    "if __name__ == \"__main__\":\n",
    "    import doctest\n",
    "    doctest.testmod()\n"
   ]
  },
  {
   "cell_type": "markdown",
   "id": "68a74902-8c34-43e3-bb45-fbb6906209f7",
   "metadata": {},
   "source": [
    "# Q4"
   ]
  },
  {
   "cell_type": "code",
   "execution_count": 4,
   "id": "26b3a35d-6c15-4207-bf00-ce51a08be28d",
   "metadata": {},
   "outputs": [
    {
     "name": "stdin",
     "output_type": "stream",
     "text": [
      "Enter the base:  2\n",
      "Enter the exponent:  3\n"
     ]
    },
    {
     "name": "stdout",
     "output_type": "stream",
     "text": [
      "\n",
      "Result: 2.0 ** 3.0 = 8.0\n"
     ]
    }
   ],
   "source": [
    "def read_number(prompt: str) -> float:\n",
    "    \"\"\"\n",
    "    Prompt the user for a number and validate using try/except.\n",
    "    Keeps asking until a valid float is entered.\n",
    "    \"\"\"\n",
    "    while True:\n",
    "        try:\n",
    "            return float(input(prompt))\n",
    "        except ValueError:\n",
    "            print(\"Invalid input. Please enter a numeric value.\")\n",
    "\n",
    "def main():\n",
    "    base = read_number(\"Enter the base: \")\n",
    "    exponent = read_number(\"Enter the exponent: \")\n",
    "    result = base ** exponent\n",
    "    print(f\"\\nResult: {base} ** {exponent} = {result}\")\n",
    "\n",
    "if __name__ == \"__main__\":\n",
    "    main()"
   ]
  },
  {
   "cell_type": "markdown",
   "id": "290f433f-da66-4c66-bc65-760d0311e8c8",
   "metadata": {},
   "source": [
    "# Q5"
   ]
  },
  {
   "cell_type": "code",
   "execution_count": 5,
   "id": "d1081fa2-bded-4c21-ad77-75d2736e1a45",
   "metadata": {},
   "outputs": [
    {
     "name": "stdin",
     "output_type": "stream",
     "text": [
      "Enter a password (Q to quit):  hello\n"
     ]
    },
    {
     "name": "stdout",
     "output_type": "stream",
     "text": [
      "\n",
      "❌ Password invalid. See details below:\n",
      "  length    : ❌\n",
      "  uppercase : ❌\n",
      "  lowercase : ✅\n",
      "  digit     : ❌\n",
      "  symbol    : ❌\n",
      "  no_space  : ✅\n",
      "\n"
     ]
    },
    {
     "name": "stdin",
     "output_type": "stream",
     "text": [
      "Enter a password (Q to quit):  Hello123\n"
     ]
    },
    {
     "name": "stdout",
     "output_type": "stream",
     "text": [
      "\n",
      "❌ Password invalid. See details below:\n",
      "  length    : ❌\n",
      "  uppercase : ✅\n",
      "  lowercase : ✅\n",
      "  digit     : ✅\n",
      "  symbol    : ❌\n",
      "  no_space  : ✅\n",
      "\n"
     ]
    },
    {
     "name": "stdin",
     "output_type": "stream",
     "text": [
      "Enter a password (Q to quit):  MyStrongP@ss1\n"
     ]
    },
    {
     "name": "stdout",
     "output_type": "stream",
     "text": [
      "✅ Password accepted!\n"
     ]
    }
   ],
   "source": [
    "def check_password(pw: str) -> dict:\n",
    "    \"\"\"\n",
    "    Validate password based on policy:\n",
    "    - Length ≥ 10\n",
    "    - At least one uppercase, one lowercase, one digit, one symbol (!@#$%^&*)\n",
    "    - No spaces\n",
    "    Returns a dictionary of rule results and overall validity.\n",
    "    \"\"\"\n",
    "    results = {\n",
    "        \"length\": len(pw) >= 10,\n",
    "        \"uppercase\": any(ch.isupper() for ch in pw),\n",
    "        \"lowercase\": any(ch.islower() for ch in pw),\n",
    "        \"digit\": any(ch.isdigit() for ch in pw),\n",
    "        \"symbol\": any(ch in \"!@#$%^&*\" for ch in pw),\n",
    "        \"no_space\": \" \" not in pw\n",
    "    }\n",
    "    results[\"valid\"] = all(results.values())\n",
    "    return results\n",
    "\n",
    "\n",
    "def main():\n",
    "    while True:\n",
    "        pw = input(\"Enter a password (Q to quit): \").strip()\n",
    "        if pw.lower() == \"q\":\n",
    "            print(\"Goodbye!\")\n",
    "            break\n",
    "\n",
    "        check = check_password(pw)\n",
    "        if check[\"valid\"]:\n",
    "            print(\"✅ Password accepted!\")\n",
    "            break\n",
    "        else:\n",
    "            print(\"\\n❌ Password invalid. See details below:\")\n",
    "            for rule, passed in check.items():\n",
    "                if rule != \"valid\":\n",
    "                    print(f\"  {rule:<10}: {'✅' if passed else '❌'}\")\n",
    "            print()\n",
    "\n",
    "\n",
    "if __name__ == \"__main__\":\n",
    "    main()\n"
   ]
  },
  {
   "cell_type": "markdown",
   "id": "fff49b58-8afc-4eab-b1e5-f04aaa53980c",
   "metadata": {},
   "source": [
    "# Q6"
   ]
  },
  {
   "cell_type": "code",
   "execution_count": 6,
   "id": "2a6ecd02-970f-4ae2-939c-7b42eb191de6",
   "metadata": {},
   "outputs": [
    {
     "name": "stdout",
     "output_type": "stream",
     "text": [
      "Estimated probability of sum=7 (n=100000): 0.1646\n",
      "Exact probability of sum=7: 6/36 = 0.1667\n"
     ]
    }
   ],
   "source": [
    "import random\n",
    "\n",
    "def roll() -> int:\n",
    "    return random.randint(1, 6)\n",
    "\n",
    "def monte_carlo_simulation(trials: int = 100_000, seed: int | None = None) -> float:\n",
    "    if seed is not None:\n",
    "        random.seed(seed)\n",
    "    \n",
    "    count_sum_7 = sum(1 for _ in range(trials) if roll() + roll() == 7)\n",
    "    return count_sum_7 / trials\n",
    "\n",
    "if __name__ == \"__main__\":\n",
    "    trials = 100_000\n",
    "    probability = monte_carlo_simulation(trials=trials, seed=42)\n",
    "    print(f\"Estimated probability of sum=7 (n={trials}): {probability:.4f}\")\n",
    "    print(\"Exact probability of sum=7: 6/36 = 0.1667\")"
   ]
  },
  {
   "cell_type": "markdown",
   "id": "ced2fdad-19cb-421a-985f-bb305671b497",
   "metadata": {},
   "source": [
    "# Q7"
   ]
  },
  {
   "cell_type": "code",
   "execution_count": 7,
   "id": "f542b669-669c-40a1-b56f-91d1d7e2db34",
   "metadata": {},
   "outputs": [
    {
     "name": "stdout",
     "output_type": "stream",
     "text": [
      "Car mileage: 100, fuel left: 40.00\n",
      "Truck mileage: 100, fuel left: 87.50\n",
      "Car fuel after refuel: 60.0\n",
      "Truck fuel after refuel: 137.5\n"
     ]
    }
   ],
   "source": [
    "class Vehicle:\n",
    "    def __init__(self, color: str, mileage: float = 0, fuel_liters: float = 0):\n",
    "        self.color = color\n",
    "        self.mileage = mileage\n",
    "        self.fuel_liters = fuel_liters\n",
    "\n",
    "    def drive(self, km: float, km_per_liter: float):\n",
    "        if km <= 0 or km_per_liter <= 0:\n",
    "            print(\"Drive distance and efficiency must be positive.\")\n",
    "            return\n",
    "        max_distance = self.fuel_liters * km_per_liter\n",
    "        distance_driven = min(km, max_distance)\n",
    "        self.mileage += distance_driven\n",
    "        self.fuel_liters -= distance_driven / km_per_liter\n",
    "        self.fuel_liters = max(self.fuel_liters, 0)\n",
    "\n",
    "    def refuel(self, liters: float):\n",
    "        if liters <= 0:\n",
    "            print(\"Refuel amount must be positive.\")\n",
    "            return\n",
    "        self.fuel_liters += liters\n",
    "\n",
    "\n",
    "class Car(Vehicle):\n",
    "    pass\n",
    "\n",
    "\n",
    "class Truck(Vehicle):\n",
    "    def drive(self, km: float, km_per_liter: float):\n",
    "        adjusted_efficiency = km_per_liter * 0.8\n",
    "        max_distance = self.fuel_liters * adjusted_efficiency\n",
    "        distance_driven = min(km, max_distance)\n",
    "        self.mileage += distance_driven\n",
    "        self.fuel_liters -= distance_driven / adjusted_efficiency\n",
    "        self.fuel_liters = max(self.fuel_liters, 0)\n",
    "\n",
    "\n",
    "if __name__ == \"__main__\":\n",
    "    car = Car(\"Red\", fuel_liters=50)\n",
    "    truck = Truck(\"Blue\", fuel_liters=100)\n",
    "\n",
    "    car.drive(100, 10)\n",
    "    truck.drive(100, 10)\n",
    "\n",
    "    print(f\"Car mileage: {car.mileage}, fuel left: {car.fuel_liters:.2f}\")\n",
    "    print(f\"Truck mileage: {truck.mileage}, fuel left: {truck.fuel_liters:.2f}\")\n",
    "\n",
    "    car.refuel(20)\n",
    "    truck.refuel(50)\n",
    "    print(f\"Car fuel after refuel: {car.fuel_liters}\")\n",
    "    print(f\"Truck fuel after refuel: {truck.fuel_liters}\")"
   ]
  },
  {
   "cell_type": "markdown",
   "id": "4f638d5a-b551-4653-9368-9a44ee095249",
   "metadata": {},
   "source": [
    "# Q8"
   ]
  },
  {
   "cell_type": "code",
   "execution_count": 8,
   "id": "fee2afaa-fb89-47f3-929f-02c6fe8f60fd",
   "metadata": {},
   "outputs": [
    {
     "name": "stdout",
     "output_type": "stream",
     "text": [
      "Oldest dog: Max, Age: 8\n",
      "Golden Retrievers: ['Buddy', 'Bella']\n",
      "Dogs after removing Max: ['Buddy', 'Bella']\n"
     ]
    }
   ],
   "source": [
    "class Dog:\n",
    "    def __init__(self, name: str, age: int, breed: str):\n",
    "        self.name = name\n",
    "        self.age = age\n",
    "        self.breed = breed\n",
    "\n",
    "    def bark(self):\n",
    "        print(f\"{self.name} says: Woof!\")\n",
    "\n",
    "\n",
    "class Kennel:\n",
    "    def __init__(self):\n",
    "        self.dogs: list[Dog] = []\n",
    "\n",
    "    def add_dog(self, dog: Dog):\n",
    "        self.dogs.append(dog)\n",
    "\n",
    "    def remove_dog(self, dog_name: str):\n",
    "        removed = False\n",
    "        for i, dog in enumerate(self.dogs):\n",
    "            if dog.name == dog_name:\n",
    "                del self.dogs[i]\n",
    "                removed = True\n",
    "                break\n",
    "        if not removed:\n",
    "            print(f\"No dog named {dog_name} found.\")\n",
    "\n",
    "    def oldest_dog(self) -> Dog | None:\n",
    "        if not self.dogs:\n",
    "            return None\n",
    "        return max(self.dogs, key=lambda dog: dog.age)\n",
    "\n",
    "    def find_by_breed(self, breed: str) -> list[Dog]:\n",
    "        return [dog for dog in self.dogs if dog.breed.lower() == breed.lower()]\n",
    "\n",
    "\n",
    "if __name__ == \"__main__\":\n",
    "    dog1 = Dog(\"Buddy\", 5, \"Golden Retriever\")\n",
    "    dog2 = Dog(\"Max\", 8, \"German Shepherd\")\n",
    "    dog3 = Dog(\"Bella\", 3, \"Golden Retriever\")\n",
    "\n",
    "    kennel = Kennel()\n",
    "    kennel.add_dog(dog1)\n",
    "    kennel.add_dog(dog2)\n",
    "    kennel.add_dog(dog3)\n",
    "\n",
    "    oldest = kennel.oldest_dog()\n",
    "    if oldest:\n",
    "        print(f\"Oldest dog: {oldest.name}, Age: {oldest.age}\")\n",
    "\n",
    "    goldens = kennel.find_by_breed(\"Golden Retriever\")\n",
    "    print(\"Golden Retrievers:\", [dog.name for dog in goldens])\n",
    "\n",
    "    kennel.remove_dog(\"Max\")\n",
    "    print(\"Dogs after removing Max:\", [dog.name for dog in kennel.dogs])"
   ]
  },
  {
   "cell_type": "markdown",
   "id": "a75ed19c-e40d-4f43-810c-f5d65fe2e480",
   "metadata": {},
   "source": [
    "# Q9"
   ]
  },
  {
   "cell_type": "code",
   "execution_count": 9,
   "id": "517dbaf0-081b-49de-9eb5-4ae088dec122",
   "metadata": {},
   "outputs": [
    {
     "ename": "ModuleNotFoundError",
     "evalue": "No module named 'helpers'",
     "output_type": "error",
     "traceback": [
      "\u001b[1;31m---------------------------------------------------------------------------\u001b[0m",
      "\u001b[1;31mModuleNotFoundError\u001b[0m                       Traceback (most recent call last)",
      "Cell \u001b[1;32mIn[9], line 5\u001b[0m\n\u001b[0;32m      3\u001b[0m \u001b[38;5;28;01mdef\u001b[39;00m\u001b[38;5;250m \u001b[39m\u001b[38;5;21marea\u001b[39m(l: \u001b[38;5;28mfloat\u001b[39m, w: \u001b[38;5;28mfloat\u001b[39m) \u001b[38;5;241m-\u001b[39m\u001b[38;5;241m>\u001b[39m \u001b[38;5;28mfloat\u001b[39m:\n\u001b[0;32m      4\u001b[0m     \u001b[38;5;28;01mreturn\u001b[39;00m l \u001b[38;5;241m*\u001b[39m w\n\u001b[1;32m----> 5\u001b[0m \u001b[38;5;28;01mimport\u001b[39;00m\u001b[38;5;250m \u001b[39m\u001b[38;5;21;01mhelpers\u001b[39;00m\u001b[38;5;21;01m.\u001b[39;00m\u001b[38;5;21;01mstring_utils\u001b[39;00m\u001b[38;5;250m \u001b[39m\u001b[38;5;28;01mas\u001b[39;00m\u001b[38;5;250m \u001b[39m\u001b[38;5;21;01msu\u001b[39;00m\n\u001b[0;32m      6\u001b[0m \u001b[38;5;28;01mfrom\u001b[39;00m\u001b[38;5;250m \u001b[39m\u001b[38;5;21;01mhelpers\u001b[39;00m\u001b[38;5;21;01m.\u001b[39;00m\u001b[38;5;21;01mmath_utils\u001b[39;00m\u001b[38;5;250m \u001b[39m\u001b[38;5;28;01mimport\u001b[39;00m area\n\u001b[0;32m      8\u001b[0m \u001b[38;5;28;01mdef\u001b[39;00m\u001b[38;5;250m \u001b[39m\u001b[38;5;21mmain\u001b[39m():\n",
      "\u001b[1;31mModuleNotFoundError\u001b[0m: No module named 'helpers'"
     ]
    }
   ],
   "source": [
    "def shout(s: str) -> str:\n",
    "    return s.upper()\n",
    "def area(l: float, w: float) -> float:\n",
    "    return l * w\n",
    "import helpers.string_utils as su\n",
    "from helpers.math_utils import area\n",
    "\n",
    "def main():\n",
    "    text = \"hello\"\n",
    "    print(su.shout(text))\n",
    "\n",
    "    length = 5\n",
    "    width = 3\n",
    "    print(area(length, width))\n",
    "\n",
    "if __name__ == \"__main__\":\n",
    "    main()\n"
   ]
  },
  {
   "cell_type": "markdown",
   "id": "2db79d8b-45f8-4ce5-8d16-ab767cd30f43",
   "metadata": {},
   "source": [
    "# Q10"
   ]
  },
  {
   "cell_type": "code",
   "execution_count": 10,
   "id": "252f5ea3-411f-4aec-a4cd-80cf00592b28",
   "metadata": {},
   "outputs": [
    {
     "name": "stdout",
     "output_type": "stream",
     "text": [
      "**********************************************************************\n",
      "File \"__main__\", line 18, in __main__._test\n",
      "Failed example:\n",
      "    translate(\"Python 3.9\", {'p': '9', 'y': '7', 't': '+'})\n",
      "Expected:\n",
      "    '9 7h+on 3.9'\n",
      "Got:\n",
      "    'P7+hon 3.9'\n",
      "**********************************************************************\n",
      "File \"__main__\", line 15, in __main__.fmt_money\n",
      "Failed example:\n",
      "    fmt_money(0.005)\n",
      "Expected:\n",
      "    '0.00'\n",
      "Got:\n",
      "    '0.01'\n",
      "\u001b[31m**********************************************************************\u001b[0m\n",
      "2 items had failures:\n",
      "   1 of   5 in __main__._test\n",
      "   1 of   5 in __main__.fmt_money\n",
      "\u001b[1;31m***Test Failed*** 2 failures\u001b[0m.\n",
      "Temperature Converter\n",
      "---------------------\n",
      "Choose conversion direction:\n",
      "1: Celsius to Fahrenheit\n",
      "2: Fahrenheit to Celsius\n"
     ]
    },
    {
     "name": "stdin",
     "output_type": "stream",
     "text": [
      "Enter 1 or 2:  1\n",
      "Enter temperature to convert:  2\n"
     ]
    },
    {
     "name": "stdout",
     "output_type": "stream",
     "text": [
      "2.0°C is 35.60°F\n"
     ]
    }
   ],
   "source": [
    "def cel_to_far(c: float) -> float:\n",
    "    \"\"\"\n",
    "    Convert Celsius to Fahrenheit.\n",
    "    \n",
    "    Formula: (°C * 9/5) + 32 = °F\n",
    "    \n",
    "    Args:\n",
    "        c (float): Temperature in Celsius.\n",
    "        \n",
    "    Returns:\n",
    "        float: Temperature in Fahrenheit.\n",
    "        \n",
    "    Examples:\n",
    "    >>> cel_to_far(0)\n",
    "    32.0\n",
    "    >>> cel_to_far(-40)\n",
    "    -40.0\n",
    "    >>> cel_to_far(100)\n",
    "    212.0\n",
    "    \"\"\"\n",
    "    return (c * 9 / 5) + 32\n",
    "\n",
    "\n",
    "def far_to_cel(f: float) -> float:\n",
    "    \"\"\"\n",
    "    Convert Fahrenheit to Celsius.\n",
    "    \n",
    "    Formula: (°F - 32) * 5/9 = °C\n",
    "    \n",
    "    Args:\n",
    "        f (float): Temperature in Fahrenheit.\n",
    "        \n",
    "    Returns:\n",
    "        float: Temperature in Celsius.\n",
    "        \n",
    "    Examples:\n",
    "    >>> far_to_cel(32)\n",
    "    0.0\n",
    "    >>> far_to_cel(-40)\n",
    "    -40.0\n",
    "    >>> far_to_cel(212)\n",
    "    100.0\n",
    "    \"\"\"\n",
    "    return (f - 32) * 5 / 9\n",
    "\n",
    "\n",
    "def main():\n",
    "    print(\"Temperature Converter\")\n",
    "    print(\"---------------------\")\n",
    "    print(\"Choose conversion direction:\")\n",
    "    print(\"1: Celsius to Fahrenheit\")\n",
    "    print(\"2: Fahrenheit to Celsius\")\n",
    "\n",
    "    while True:\n",
    "        choice = input(\"Enter 1 or 2: \").strip()\n",
    "        if choice not in {\"1\", \"2\"}:\n",
    "            print(\"Invalid choice. Please enter 1 or 2.\")\n",
    "            continue\n",
    "        else:\n",
    "            break\n",
    "\n",
    "    while True:\n",
    "        temp_input = input(\"Enter temperature to convert: \").strip()\n",
    "        try:\n",
    "            temp = float(temp_input)\n",
    "            break\n",
    "        except ValueError:\n",
    "            print(\"Invalid temperature. Please enter a numeric value.\")\n",
    "\n",
    "    if choice == \"1\":\n",
    "        result = cel_to_far(temp)\n",
    "        print(f\"{temp}°C is {result:.2f}°F\")\n",
    "    else:\n",
    "        result = far_to_cel(temp)\n",
    "        print(f\"{temp}°F is {result:.2f}°C\")\n",
    "\n",
    "\n",
    "if __name__ == \"__main__\":\n",
    "    import doctest\n",
    "    doctest.testmod()  \n",
    "    \n",
    "    main()\n"
   ]
  },
  {
   "cell_type": "code",
   "execution_count": null,
   "id": "cae4192d-4175-454c-b98d-16e6b21ab7bb",
   "metadata": {},
   "outputs": [],
   "source": []
  }
 ],
 "metadata": {
  "kernelspec": {
   "display_name": "Python 3 (ipykernel)",
   "language": "python",
   "name": "python3"
  },
  "language_info": {
   "codemirror_mode": {
    "name": "ipython",
    "version": 3
   },
   "file_extension": ".py",
   "mimetype": "text/x-python",
   "name": "python",
   "nbconvert_exporter": "python",
   "pygments_lexer": "ipython3",
   "version": "3.13.5"
  }
 },
 "nbformat": 4,
 "nbformat_minor": 5
}

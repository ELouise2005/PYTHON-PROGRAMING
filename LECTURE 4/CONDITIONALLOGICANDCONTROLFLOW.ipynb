{
 "cells": [
  {
   "cell_type": "markdown",
   "id": "5c23e58f-c913-42bf-8371-195137fbf453",
   "metadata": {},
   "source": [
    "# REVIEW EXERCISE"
   ]
  },
  {
   "cell_type": "code",
   "execution_count": 1,
   "id": "261a2c61-2ab5-4dd6-8489-72d67a380cc1",
   "metadata": {},
   "outputs": [
    {
     "name": "stdout",
     "output_type": "stream",
     "text": [
      "1 <= 1: True\n",
      "1 != 1: False\n",
      "1 != 2: True\n",
      "\"good\" != \"bad\": True\n",
      "\"good\" != \"Good\": True\n",
      "123 == \"123\": False\n"
     ]
    }
   ],
   "source": [
    "print(\"1 <= 1:\", 1 <= 1)\n",
    "print(\"1 != 1:\", 1 != 1)\n",
    "print(\"1 != 2:\", 1 != 2)\n",
    "print('\"good\" != \"bad\":', \"good\" != \"bad\")\n",
    "print('\"good\" != \"Good\":', \"good\" != \"Good\")\n",
    "print('123 == \"123\":', 123 == \"123\")\n"
   ]
  },
  {
   "cell_type": "code",
   "execution_count": 2,
   "id": "a16e3ca1-82de-4207-8600-2e9541ae9773",
   "metadata": {},
   "outputs": [
    {
     "name": "stdout",
     "output_type": "stream",
     "text": [
      "3 < 4: True\n",
      "10 > 5: True\n",
      "\"jack\" < \"jill\": True\n",
      "42 != \"42\": True\n"
     ]
    }
   ],
   "source": [
    "print(\"3 < 4:\", 3 < 4)\n",
    "print(\"10 > 5:\", 10 > 5)\n",
    "print('\"jack\" < \"jill\":', \"jack\" < \"jill\")\n",
    "print('42 != \"42\":', 42 != \"42\")"
   ]
  },
  {
   "cell_type": "markdown",
   "id": "aa129b20-43ec-4e02-8f69-27f8f554d5e7",
   "metadata": {},
   "source": [
    "# REVIEW EXERCISE"
   ]
  },
  {
   "cell_type": "code",
   "execution_count": 3,
   "id": "3f14a922-c427-4332-be9a-a1bd6bae6067",
   "metadata": {},
   "outputs": [
    {
     "name": "stdout",
     "output_type": "stream",
     "text": [
      "False\n",
      "True\n",
      "False\n",
      "False\n"
     ]
    }
   ],
   "source": [
    "print(1 < 1 and 1 != 2)\n",
    "print(not (1 < 1 and 1 != 2))\n",
    "print(\"good\" == \"bad\" or False)\n",
    "print(\"good\" == \"good\" and not (1 == 1))"
   ]
  },
  {
   "cell_type": "code",
   "execution_count": 9,
   "id": "991afc42-5946-4f3c-94d6-0867b3e937b9",
   "metadata": {},
   "outputs": [
    {
     "name": "stdout",
     "output_type": "stream",
     "text": [
      "True\n",
      "True\n",
      "False\n"
     ]
    }
   ],
   "source": [
    "print(not (True and \"A\" == \"B\"))\n",
    "print((True and False) == (True and False))\n",
    "print(False == True)"
   ]
  },
  {
   "cell_type": "markdown",
   "id": "7a26c8cf-9124-470a-8965-9e143cb4c4a0",
   "metadata": {},
   "source": [
    "# REVIEW EXERCISE"
   ]
  },
  {
   "cell_type": "code",
   "execution_count": 10,
   "id": "bb4bcb55-3913-499e-a6ed-7656f9195a6a",
   "metadata": {},
   "outputs": [
    {
     "name": "stdin",
     "output_type": "stream",
     "text": [
      "Enter a word:  jessa\n"
     ]
    },
    {
     "name": "stdout",
     "output_type": "stream",
     "text": [
      "The length of the word is equal to 5 characters.\n"
     ]
    }
   ],
   "source": [
    "word = input(\"Enter a word: \")\n",
    "\n",
    "if len(word) < 5:\n",
    "    print(\"The length of the word is less than 5 characters.\")\n",
    "elif len(word) > 5:\n",
    "    print(\"The length of the word is greater than 5 characters.\")\n",
    "else:\n",
    "    print(\"The length of the word is equal to 5 characters.\")"
   ]
  },
  {
   "cell_type": "markdown",
   "id": "f80b5e75-1b3d-420f-b49f-c4c25f4da9f1",
   "metadata": {},
   "source": [
    "# REVIEW EXERCISE"
   ]
  },
  {
   "cell_type": "code",
   "execution_count": 11,
   "id": "e7db3e2c-15ee-41eb-942a-34a96f067819",
   "metadata": {},
   "outputs": [
    {
     "name": "stdin",
     "output_type": "stream",
     "text": [
      "Enter something (or 'Q'/'q' to quit):  q\n"
     ]
    },
    {
     "name": "stdout",
     "output_type": "stream",
     "text": [
      "You have quit the program.\n"
     ]
    }
   ],
   "source": [
    "while True:\n",
    "    user_input = input(\"Enter something (or 'Q'/'q' to quit): \")\n",
    "    if user_input.lower() == 'q':\n",
    "        break\n",
    "    print(f\"You entered: {user_input}\")\n",
    "\n",
    "print(\"You have quit the program.\")"
   ]
  },
  {
   "cell_type": "code",
   "execution_count": 12,
   "id": "9785ddc0-488a-4d8f-add6-1935beaf3630",
   "metadata": {},
   "outputs": [
    {
     "name": "stdout",
     "output_type": "stream",
     "text": [
      "1\n",
      "2\n",
      "4\n",
      "5\n",
      "7\n",
      "8\n",
      "10\n",
      "11\n",
      "13\n",
      "14\n",
      "16\n",
      "17\n",
      "19\n",
      "20\n",
      "22\n",
      "23\n",
      "25\n",
      "26\n",
      "28\n",
      "29\n",
      "31\n",
      "32\n",
      "34\n",
      "35\n",
      "37\n",
      "38\n",
      "40\n",
      "41\n",
      "43\n",
      "44\n",
      "46\n",
      "47\n",
      "49\n",
      "50\n"
     ]
    }
   ],
   "source": [
    "for i in range(1, 51):\n",
    "    if i % 3 == 0:\n",
    "        continue\n",
    "    print(i)\n"
   ]
  },
  {
   "cell_type": "markdown",
   "id": "cc518ceb-d52f-4676-80b3-1ca3c51fbb95",
   "metadata": {},
   "source": [
    "# REVIEW EXERCISE"
   ]
  },
  {
   "cell_type": "code",
   "execution_count": 13,
   "id": "ed1554f3-8388-49dc-93e1-3eb6cbbfce31",
   "metadata": {},
   "outputs": [
    {
     "name": "stdin",
     "output_type": "stream",
     "text": [
      "Enter an integer:  3\n"
     ]
    },
    {
     "name": "stdout",
     "output_type": "stream",
     "text": [
      "You entered: 3\n"
     ]
    }
   ],
   "source": [
    "while True:\n",
    "    try:\n",
    "        num = int(input(\"Enter an integer: \"))\n",
    "        print(\"You entered:\", num)\n",
    "        break\n",
    "    except ValueError:\n",
    "        print(\"Try again\")\n"
   ]
  },
  {
   "cell_type": "code",
   "execution_count": 15,
   "id": "eb3e8521-131b-410e-a551-7b6254ffca0d",
   "metadata": {},
   "outputs": [
    {
     "name": "stdin",
     "output_type": "stream",
     "text": [
      "Enter a string:  HELLO\n",
      "Enter an integer index:  0\n"
     ]
    },
    {
     "name": "stdout",
     "output_type": "stream",
     "text": [
      "Character at index 0 is: H\n"
     ]
    }
   ],
   "source": [
    "string = input(\"Enter a string: \")\n",
    "n = int(input(\"Enter an integer index: \"))\n",
    "print(\"Character at index\", n, \"is:\", string[n])\n"
   ]
  },
  {
   "cell_type": "markdown",
   "id": "adcac754-d51e-4b06-a669-02c64d8cad93",
   "metadata": {},
   "source": [
    "# REVIEW EXERCISE"
   ]
  },
  {
   "cell_type": "code",
   "execution_count": 18,
   "id": "ee8755b0-5240-474e-8c02-5b2e77aa0cbc",
   "metadata": {},
   "outputs": [],
   "source": [
    "import random\n",
    "def roll():\n",
    "    return random.randint(1, 6)"
   ]
  },
  {
   "cell_type": "code",
   "execution_count": null,
   "id": "33ab5280-2ba9-4dd5-a897-c4a33a867082",
   "metadata": {},
   "outputs": [],
   "source": []
  },
  {
   "cell_type": "code",
   "execution_count": null,
   "id": "0c06029a-f37d-41ca-91c2-04df8a43644c",
   "metadata": {},
   "outputs": [],
   "source": []
  }
 ],
 "metadata": {
  "kernelspec": {
   "display_name": "Python 3 (ipykernel)",
   "language": "python",
   "name": "python3"
  },
  "language_info": {
   "codemirror_mode": {
    "name": "ipython",
    "version": 3
   },
   "file_extension": ".py",
   "mimetype": "text/x-python",
   "name": "python",
   "nbconvert_exporter": "python",
   "pygments_lexer": "ipython3",
   "version": "3.13.5"
  }
 },
 "nbformat": 4,
 "nbformat_minor": 5
}
